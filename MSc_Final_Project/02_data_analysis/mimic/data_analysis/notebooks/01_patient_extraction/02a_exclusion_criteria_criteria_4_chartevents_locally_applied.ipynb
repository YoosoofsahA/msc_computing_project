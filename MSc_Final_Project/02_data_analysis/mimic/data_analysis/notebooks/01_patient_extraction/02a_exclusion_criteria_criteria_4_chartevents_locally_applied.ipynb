{
 "cells": [
  {
   "cell_type": "code",
   "execution_count": 1,
   "metadata": {},
   "outputs": [],
   "source": [
    "patient_file = '/Users/akram/Documents/Final Project/data_analysis/criteria_4_1.parquet'\n",
    "\n",
    "chart_file = '/Users/akram/Documents/Final Project/data_analysis/chartevents.csv'\n"
   ]
  },
  {
   "cell_type": "markdown",
   "metadata": {},
   "source": [
    "Read in files to dataframes"
   ]
  },
  {
   "cell_type": "code",
   "execution_count": 2,
   "metadata": {},
   "outputs": [
    {
     "name": "stdout",
     "output_type": "stream",
     "text": [
      "Defaulting to user installation because normal site-packages is not writeable\n",
      "Requirement already satisfied: dask in /Users/akram/Library/Python/3.9/lib/python/site-packages (2024.6.2)\n",
      "Requirement already satisfied: pandas in /Users/akram/Library/Python/3.9/lib/python/site-packages (2.2.2)\n",
      "Requirement already satisfied: partd>=1.2.0 in /Users/akram/Library/Python/3.9/lib/python/site-packages (from dask) (1.4.2)\n",
      "Requirement already satisfied: click>=8.1 in /Users/akram/Library/Python/3.9/lib/python/site-packages (from dask) (8.1.7)\n",
      "Requirement already satisfied: packaging>=20.0 in /Users/akram/Library/Python/3.9/lib/python/site-packages (from dask) (24.1)\n",
      "Requirement already satisfied: importlib-metadata>=4.13.0 in /Users/akram/Library/Python/3.9/lib/python/site-packages (from dask) (8.0.0)\n",
      "Requirement already satisfied: cloudpickle>=1.5.0 in /Users/akram/Library/Python/3.9/lib/python/site-packages (from dask) (3.0.0)\n",
      "Requirement already satisfied: toolz>=0.10.0 in /Users/akram/Library/Python/3.9/lib/python/site-packages (from dask) (0.12.1)\n",
      "Requirement already satisfied: pyyaml>=5.3.1 in /Users/akram/Library/Python/3.9/lib/python/site-packages (from dask) (6.0.1)\n",
      "Requirement already satisfied: fsspec>=2021.09.0 in /Users/akram/Library/Python/3.9/lib/python/site-packages (from dask) (2024.6.1)\n",
      "Requirement already satisfied: tzdata>=2022.7 in /Users/akram/Library/Python/3.9/lib/python/site-packages (from pandas) (2024.1)\n",
      "Requirement already satisfied: pytz>=2020.1 in /Users/akram/Library/Python/3.9/lib/python/site-packages (from pandas) (2024.1)\n",
      "Requirement already satisfied: python-dateutil>=2.8.2 in /Users/akram/Library/Python/3.9/lib/python/site-packages (from pandas) (2.9.0.post0)\n",
      "Requirement already satisfied: numpy>=1.22.4 in /Users/akram/Library/Python/3.9/lib/python/site-packages (from pandas) (2.0.0)\n",
      "Requirement already satisfied: zipp>=0.5 in /Users/akram/Library/Python/3.9/lib/python/site-packages (from importlib-metadata>=4.13.0->dask) (3.19.2)\n",
      "Requirement already satisfied: locket in /Users/akram/Library/Python/3.9/lib/python/site-packages (from partd>=1.2.0->dask) (1.0.0)\n",
      "Requirement already satisfied: six>=1.5 in /Library/Developer/CommandLineTools/Library/Frameworks/Python3.framework/Versions/3.9/lib/python3.9/site-packages (from python-dateutil>=2.8.2->pandas) (1.15.0)\n",
      "\u001b[33mWARNING: You are using pip version 21.2.4; however, version 24.1.1 is available.\n",
      "You should consider upgrading via the '/Library/Developer/CommandLineTools/usr/bin/python3 -m pip install --upgrade pip' command.\u001b[0m\n",
      "Note: you may need to restart the kernel to use updated packages.\n"
     ]
    }
   ],
   "source": [
    "pip install dask pandas"
   ]
  },
  {
   "cell_type": "code",
   "execution_count": 4,
   "metadata": {},
   "outputs": [
    {
     "name": "stderr",
     "output_type": "stream",
     "text": [
      "/Users/akram/Library/Python/3.9/lib/python/site-packages/dask/dataframe/__init__.py:49: FutureWarning: \n",
      "Dask dataframe query planning is disabled because dask-expr is not installed.\n",
      "\n",
      "You can install it with `pip install dask[dataframe]` or `conda install dask`.\n",
      "This will raise in a future version.\n",
      "\n",
      "  warnings.warn(msg, FutureWarning)\n"
     ]
    }
   ],
   "source": [
    "import pandas as pd\n",
    "import dask.dataframe as dd"
   ]
  },
  {
   "cell_type": "code",
   "execution_count": 10,
   "metadata": {},
   "outputs": [
    {
     "name": "stdout",
     "output_type": "stream",
     "text": [
      "Defaulting to user installation because normal site-packages is not writeable\n",
      "Collecting pyarrow\n",
      "  Downloading pyarrow-16.1.0-cp39-cp39-macosx_11_0_arm64.whl (26.0 MB)\n",
      "\u001b[K     |████████████████████████████████| 26.0 MB 5.7 MB/s eta 0:00:01\n",
      "\u001b[?25hRequirement already satisfied: numpy>=1.16.6 in /Users/akram/Library/Python/3.9/lib/python/site-packages (from pyarrow) (2.0.0)\n",
      "Installing collected packages: pyarrow\n",
      "Successfully installed pyarrow-16.1.0\n",
      "\u001b[33mWARNING: You are using pip version 21.2.4; however, version 24.1.1 is available.\n",
      "You should consider upgrading via the '/Library/Developer/CommandLineTools/usr/bin/python3 -m pip install --upgrade pip' command.\u001b[0m\n",
      "Note: you may need to restart the kernel to use updated packages.\n"
     ]
    }
   ],
   "source": [
    "pip install pyarrow"
   ]
  },
  {
   "cell_type": "code",
   "execution_count": 6,
   "metadata": {},
   "outputs": [],
   "source": [
    "dtypes = {'itemid': 'int64',\n",
    "    'caregiver_id': 'float64',\n",
    "       'value': 'object',\n",
    "       'valuenum': 'float64',\n",
    "       'warning': 'float64'}\n",
    "\n",
    "chartevents_df = dd.read_csv(chart_file, dtype=dtypes)"
   ]
  },
  {
   "cell_type": "code",
   "execution_count": 7,
   "metadata": {},
   "outputs": [
    {
     "name": "stdout",
     "output_type": "stream",
     "text": [
      "<class 'dask.dataframe.core.DataFrame'>\n",
      "Columns: 11 entries, subject_id to warning\n",
      "dtypes: object(4), float64(3), int64(4)"
     ]
    }
   ],
   "source": [
    "chartevents_df.info()"
   ]
  },
  {
   "cell_type": "code",
   "execution_count": 8,
   "metadata": {},
   "outputs": [
    {
     "data": {
      "text/html": [
       "<div>\n",
       "<style scoped>\n",
       "    .dataframe tbody tr th:only-of-type {\n",
       "        vertical-align: middle;\n",
       "    }\n",
       "\n",
       "    .dataframe tbody tr th {\n",
       "        vertical-align: top;\n",
       "    }\n",
       "\n",
       "    .dataframe thead th {\n",
       "        text-align: right;\n",
       "    }\n",
       "</style>\n",
       "<table border=\"1\" class=\"dataframe\">\n",
       "  <thead>\n",
       "    <tr style=\"text-align: right;\">\n",
       "      <th></th>\n",
       "      <th>subject_id</th>\n",
       "      <th>hadm_id</th>\n",
       "      <th>stay_id</th>\n",
       "      <th>caregiver_id</th>\n",
       "      <th>charttime</th>\n",
       "      <th>storetime</th>\n",
       "      <th>itemid</th>\n",
       "      <th>value</th>\n",
       "      <th>valuenum</th>\n",
       "      <th>valueuom</th>\n",
       "      <th>warning</th>\n",
       "    </tr>\n",
       "  </thead>\n",
       "  <tbody>\n",
       "    <tr>\n",
       "      <th>0</th>\n",
       "      <td>10000032</td>\n",
       "      <td>29079034</td>\n",
       "      <td>39553978</td>\n",
       "      <td>47007.0</td>\n",
       "      <td>2180-07-23 21:01:00</td>\n",
       "      <td>2180-07-23 22:15:00</td>\n",
       "      <td>220179</td>\n",
       "      <td>82</td>\n",
       "      <td>82.0</td>\n",
       "      <td>mmHg</td>\n",
       "      <td>0.0</td>\n",
       "    </tr>\n",
       "    <tr>\n",
       "      <th>1</th>\n",
       "      <td>10000032</td>\n",
       "      <td>29079034</td>\n",
       "      <td>39553978</td>\n",
       "      <td>47007.0</td>\n",
       "      <td>2180-07-23 21:01:00</td>\n",
       "      <td>2180-07-23 22:15:00</td>\n",
       "      <td>220180</td>\n",
       "      <td>59</td>\n",
       "      <td>59.0</td>\n",
       "      <td>mmHg</td>\n",
       "      <td>0.0</td>\n",
       "    </tr>\n",
       "    <tr>\n",
       "      <th>2</th>\n",
       "      <td>10000032</td>\n",
       "      <td>29079034</td>\n",
       "      <td>39553978</td>\n",
       "      <td>47007.0</td>\n",
       "      <td>2180-07-23 21:01:00</td>\n",
       "      <td>2180-07-23 22:15:00</td>\n",
       "      <td>220181</td>\n",
       "      <td>63</td>\n",
       "      <td>63.0</td>\n",
       "      <td>mmHg</td>\n",
       "      <td>0.0</td>\n",
       "    </tr>\n",
       "    <tr>\n",
       "      <th>3</th>\n",
       "      <td>10000032</td>\n",
       "      <td>29079034</td>\n",
       "      <td>39553978</td>\n",
       "      <td>47007.0</td>\n",
       "      <td>2180-07-23 22:00:00</td>\n",
       "      <td>2180-07-23 22:15:00</td>\n",
       "      <td>220045</td>\n",
       "      <td>94</td>\n",
       "      <td>94.0</td>\n",
       "      <td>bpm</td>\n",
       "      <td>0.0</td>\n",
       "    </tr>\n",
       "    <tr>\n",
       "      <th>4</th>\n",
       "      <td>10000032</td>\n",
       "      <td>29079034</td>\n",
       "      <td>39553978</td>\n",
       "      <td>47007.0</td>\n",
       "      <td>2180-07-23 22:00:00</td>\n",
       "      <td>2180-07-23 22:15:00</td>\n",
       "      <td>220179</td>\n",
       "      <td>85</td>\n",
       "      <td>85.0</td>\n",
       "      <td>mmHg</td>\n",
       "      <td>0.0</td>\n",
       "    </tr>\n",
       "  </tbody>\n",
       "</table>\n",
       "</div>"
      ],
      "text/plain": [
       "   subject_id   hadm_id   stay_id  caregiver_id            charttime  \\\n",
       "0    10000032  29079034  39553978       47007.0  2180-07-23 21:01:00   \n",
       "1    10000032  29079034  39553978       47007.0  2180-07-23 21:01:00   \n",
       "2    10000032  29079034  39553978       47007.0  2180-07-23 21:01:00   \n",
       "3    10000032  29079034  39553978       47007.0  2180-07-23 22:00:00   \n",
       "4    10000032  29079034  39553978       47007.0  2180-07-23 22:00:00   \n",
       "\n",
       "             storetime  itemid value  valuenum valueuom  warning  \n",
       "0  2180-07-23 22:15:00  220179    82      82.0     mmHg      0.0  \n",
       "1  2180-07-23 22:15:00  220180    59      59.0     mmHg      0.0  \n",
       "2  2180-07-23 22:15:00  220181    63      63.0     mmHg      0.0  \n",
       "3  2180-07-23 22:15:00  220045    94      94.0      bpm      0.0  \n",
       "4  2180-07-23 22:15:00  220179    85      85.0     mmHg      0.0  "
      ]
     },
     "execution_count": 8,
     "metadata": {},
     "output_type": "execute_result"
    }
   ],
   "source": [
    "chartevents_df.head()"
   ]
  },
  {
   "cell_type": "code",
   "execution_count": 12,
   "metadata": {},
   "outputs": [
    {
     "name": "stdout",
     "output_type": "stream",
     "text": [
      "<class 'pandas.core.frame.DataFrame'>\n",
      "Index: 6111 entries, 0 to 16240\n",
      "Data columns (total 13 columns):\n",
      " #   Column                         Non-Null Count  Dtype         \n",
      "---  ------                         --------------  -----         \n",
      " 0   subject_id                     6111 non-null   int64         \n",
      " 1   hadm_id                        6111 non-null   int64         \n",
      " 2   stay_id                        6111 non-null   int64         \n",
      " 3   ventilation_starttime          6111 non-null   datetime64[ns]\n",
      " 4   ventilation_endtime            6111 non-null   datetime64[ns]\n",
      " 5   ventilation_itemid             6111 non-null   int64         \n",
      " 6   ventilation_ordercategoryname  6111 non-null   object        \n",
      " 7   extubation_starttime           6111 non-null   datetime64[ns]\n",
      " 8   extubation_endtime             6111 non-null   datetime64[ns]\n",
      " 9   extubation_itemid              6111 non-null   int64         \n",
      " 10  extubation_ordercategoryname   6111 non-null   object        \n",
      " 11  ventilation_duration           6111 non-null   float64       \n",
      " 12  anchor_age                     6111 non-null   int64         \n",
      "dtypes: datetime64[ns](4), float64(1), int64(6), object(2)\n",
      "memory usage: 668.4+ KB\n"
     ]
    }
   ],
   "source": [
    "patients_df = pd.read_parquet(patient_file)\n",
    "patients_df.info()"
   ]
  },
  {
   "cell_type": "markdown",
   "metadata": {},
   "source": [
    "Set itemid values relating to palliative care"
   ]
  },
  {
   "cell_type": "code",
   "execution_count": 13,
   "metadata": {},
   "outputs": [],
   "source": [
    "itemid_values = {229150, 229152, 229154, 229155}"
   ]
  },
  {
   "cell_type": "markdown",
   "metadata": {},
   "source": [
    "Filter for itemid only"
   ]
  },
  {
   "cell_type": "code",
   "execution_count": 14,
   "metadata": {},
   "outputs": [],
   "source": [
    "filtered_chartevents = chartevents_df[chartevents_df['itemid'].isin(itemid_values)]"
   ]
  },
  {
   "cell_type": "markdown",
   "metadata": {},
   "source": [
    "Merge filtered chartevents with patient data"
   ]
  },
  {
   "cell_type": "code",
   "execution_count": 15,
   "metadata": {},
   "outputs": [],
   "source": [
    "# Merge the filtered chartevents data with the patient data\n",
    "merged_data = filtered_chartevents.merge(patients_df, on='subject_id', how='inner')\n"
   ]
  },
  {
   "cell_type": "code",
   "execution_count": 16,
   "metadata": {},
   "outputs": [],
   "source": [
    "# Convert 'charttime' column to datetime\n",
    "merged_data['charttime'] = dd.to_datetime(merged_data['charttime'])\n"
   ]
  },
  {
   "cell_type": "code",
   "execution_count": 17,
   "metadata": {},
   "outputs": [
    {
     "name": "stdout",
     "output_type": "stream",
     "text": [
      "<class 'dask.dataframe.core.DataFrame'>\n",
      "Columns: 23 entries, subject_id to anchor_age\n",
      "dtypes: datetime64[ns](5), object(5), float64(4), int64(9)"
     ]
    }
   ],
   "source": [
    "merged_data.info()"
   ]
  },
  {
   "cell_type": "code",
   "execution_count": 18,
   "metadata": {},
   "outputs": [
    {
     "data": {
      "text/html": [
       "<div>\n",
       "<style scoped>\n",
       "    .dataframe tbody tr th:only-of-type {\n",
       "        vertical-align: middle;\n",
       "    }\n",
       "\n",
       "    .dataframe tbody tr th {\n",
       "        vertical-align: top;\n",
       "    }\n",
       "\n",
       "    .dataframe thead th {\n",
       "        text-align: right;\n",
       "    }\n",
       "</style>\n",
       "<table border=\"1\" class=\"dataframe\">\n",
       "  <thead>\n",
       "    <tr style=\"text-align: right;\">\n",
       "      <th></th>\n",
       "      <th>subject_id</th>\n",
       "      <th>hadm_id_x</th>\n",
       "      <th>stay_id_x</th>\n",
       "      <th>caregiver_id</th>\n",
       "      <th>charttime</th>\n",
       "      <th>storetime</th>\n",
       "      <th>itemid</th>\n",
       "      <th>value</th>\n",
       "      <th>valuenum</th>\n",
       "      <th>valueuom</th>\n",
       "      <th>...</th>\n",
       "      <th>ventilation_starttime</th>\n",
       "      <th>ventilation_endtime</th>\n",
       "      <th>ventilation_itemid</th>\n",
       "      <th>ventilation_ordercategoryname</th>\n",
       "      <th>extubation_starttime</th>\n",
       "      <th>extubation_endtime</th>\n",
       "      <th>extubation_itemid</th>\n",
       "      <th>extubation_ordercategoryname</th>\n",
       "      <th>ventilation_duration</th>\n",
       "      <th>anchor_age</th>\n",
       "    </tr>\n",
       "  </thead>\n",
       "  <tbody>\n",
       "    <tr>\n",
       "      <th>0</th>\n",
       "      <td>10011365</td>\n",
       "      <td>26712576</td>\n",
       "      <td>37153661</td>\n",
       "      <td>27115.0</td>\n",
       "      <td>2166-02-19 12:37:00</td>\n",
       "      <td>2166-02-19 12:44:00</td>\n",
       "      <td>229150</td>\n",
       "      <td>Patient / family will have support throughout ...</td>\n",
       "      <td>NaN</td>\n",
       "      <td>NaN</td>\n",
       "      <td>...</td>\n",
       "      <td>2166-02-11 16:15:00</td>\n",
       "      <td>2166-02-14 09:46:00</td>\n",
       "      <td>225792</td>\n",
       "      <td>Ventilation</td>\n",
       "      <td>2166-02-14 09:48:00</td>\n",
       "      <td>2166-02-14 09:49:00</td>\n",
       "      <td>227194</td>\n",
       "      <td>Intubation/Extubation</td>\n",
       "      <td>3931.0</td>\n",
       "      <td>73</td>\n",
       "    </tr>\n",
       "    <tr>\n",
       "      <th>1</th>\n",
       "      <td>10011365</td>\n",
       "      <td>26712576</td>\n",
       "      <td>37153661</td>\n",
       "      <td>27115.0</td>\n",
       "      <td>2166-02-19 12:37:00</td>\n",
       "      <td>2166-02-19 12:44:00</td>\n",
       "      <td>229152</td>\n",
       "      <td>Assess ability of caregiver to provide care</td>\n",
       "      <td>NaN</td>\n",
       "      <td>NaN</td>\n",
       "      <td>...</td>\n",
       "      <td>2166-02-11 16:15:00</td>\n",
       "      <td>2166-02-14 09:46:00</td>\n",
       "      <td>225792</td>\n",
       "      <td>Ventilation</td>\n",
       "      <td>2166-02-14 09:48:00</td>\n",
       "      <td>2166-02-14 09:49:00</td>\n",
       "      <td>227194</td>\n",
       "      <td>Intubation/Extubation</td>\n",
       "      <td>3931.0</td>\n",
       "      <td>73</td>\n",
       "    </tr>\n",
       "    <tr>\n",
       "      <th>2</th>\n",
       "      <td>10011365</td>\n",
       "      <td>26712576</td>\n",
       "      <td>37153661</td>\n",
       "      <td>27115.0</td>\n",
       "      <td>2166-02-19 12:37:00</td>\n",
       "      <td>2166-02-19 12:44:00</td>\n",
       "      <td>229152</td>\n",
       "      <td>Encourage patient / family members to accept i...</td>\n",
       "      <td>NaN</td>\n",
       "      <td>NaN</td>\n",
       "      <td>...</td>\n",
       "      <td>2166-02-11 16:15:00</td>\n",
       "      <td>2166-02-14 09:46:00</td>\n",
       "      <td>225792</td>\n",
       "      <td>Ventilation</td>\n",
       "      <td>2166-02-14 09:48:00</td>\n",
       "      <td>2166-02-14 09:49:00</td>\n",
       "      <td>227194</td>\n",
       "      <td>Intubation/Extubation</td>\n",
       "      <td>3931.0</td>\n",
       "      <td>73</td>\n",
       "    </tr>\n",
       "    <tr>\n",
       "      <th>3</th>\n",
       "      <td>10011365</td>\n",
       "      <td>26712576</td>\n",
       "      <td>37153661</td>\n",
       "      <td>27115.0</td>\n",
       "      <td>2166-02-19 12:37:00</td>\n",
       "      <td>2166-02-19 12:44:00</td>\n",
       "      <td>229152</td>\n",
       "      <td>Encourage patient / family to set and verbaliz...</td>\n",
       "      <td>NaN</td>\n",
       "      <td>NaN</td>\n",
       "      <td>...</td>\n",
       "      <td>2166-02-11 16:15:00</td>\n",
       "      <td>2166-02-14 09:46:00</td>\n",
       "      <td>225792</td>\n",
       "      <td>Ventilation</td>\n",
       "      <td>2166-02-14 09:48:00</td>\n",
       "      <td>2166-02-14 09:49:00</td>\n",
       "      <td>227194</td>\n",
       "      <td>Intubation/Extubation</td>\n",
       "      <td>3931.0</td>\n",
       "      <td>73</td>\n",
       "    </tr>\n",
       "    <tr>\n",
       "      <th>4</th>\n",
       "      <td>10011365</td>\n",
       "      <td>26712576</td>\n",
       "      <td>37153661</td>\n",
       "      <td>27115.0</td>\n",
       "      <td>2166-02-19 12:37:00</td>\n",
       "      <td>2166-02-19 12:44:00</td>\n",
       "      <td>229152</td>\n",
       "      <td>Ensure spiritual and cultural needs are met</td>\n",
       "      <td>NaN</td>\n",
       "      <td>NaN</td>\n",
       "      <td>...</td>\n",
       "      <td>2166-02-11 16:15:00</td>\n",
       "      <td>2166-02-14 09:46:00</td>\n",
       "      <td>225792</td>\n",
       "      <td>Ventilation</td>\n",
       "      <td>2166-02-14 09:48:00</td>\n",
       "      <td>2166-02-14 09:49:00</td>\n",
       "      <td>227194</td>\n",
       "      <td>Intubation/Extubation</td>\n",
       "      <td>3931.0</td>\n",
       "      <td>73</td>\n",
       "    </tr>\n",
       "  </tbody>\n",
       "</table>\n",
       "<p>5 rows × 23 columns</p>\n",
       "</div>"
      ],
      "text/plain": [
       "   subject_id  hadm_id_x  stay_id_x  caregiver_id           charttime  \\\n",
       "0    10011365   26712576   37153661       27115.0 2166-02-19 12:37:00   \n",
       "1    10011365   26712576   37153661       27115.0 2166-02-19 12:37:00   \n",
       "2    10011365   26712576   37153661       27115.0 2166-02-19 12:37:00   \n",
       "3    10011365   26712576   37153661       27115.0 2166-02-19 12:37:00   \n",
       "4    10011365   26712576   37153661       27115.0 2166-02-19 12:37:00   \n",
       "\n",
       "             storetime  itemid  \\\n",
       "0  2166-02-19 12:44:00  229150   \n",
       "1  2166-02-19 12:44:00  229152   \n",
       "2  2166-02-19 12:44:00  229152   \n",
       "3  2166-02-19 12:44:00  229152   \n",
       "4  2166-02-19 12:44:00  229152   \n",
       "\n",
       "                                               value  valuenum valueuom  ...  \\\n",
       "0  Patient / family will have support throughout ...       NaN      NaN  ...   \n",
       "1        Assess ability of caregiver to provide care       NaN      NaN  ...   \n",
       "2  Encourage patient / family members to accept i...       NaN      NaN  ...   \n",
       "3  Encourage patient / family to set and verbaliz...       NaN      NaN  ...   \n",
       "4        Ensure spiritual and cultural needs are met       NaN      NaN  ...   \n",
       "\n",
       "   ventilation_starttime  ventilation_endtime  ventilation_itemid  \\\n",
       "0    2166-02-11 16:15:00  2166-02-14 09:46:00              225792   \n",
       "1    2166-02-11 16:15:00  2166-02-14 09:46:00              225792   \n",
       "2    2166-02-11 16:15:00  2166-02-14 09:46:00              225792   \n",
       "3    2166-02-11 16:15:00  2166-02-14 09:46:00              225792   \n",
       "4    2166-02-11 16:15:00  2166-02-14 09:46:00              225792   \n",
       "\n",
       "  ventilation_ordercategoryname extubation_starttime  extubation_endtime  \\\n",
       "0                   Ventilation  2166-02-14 09:48:00 2166-02-14 09:49:00   \n",
       "1                   Ventilation  2166-02-14 09:48:00 2166-02-14 09:49:00   \n",
       "2                   Ventilation  2166-02-14 09:48:00 2166-02-14 09:49:00   \n",
       "3                   Ventilation  2166-02-14 09:48:00 2166-02-14 09:49:00   \n",
       "4                   Ventilation  2166-02-14 09:48:00 2166-02-14 09:49:00   \n",
       "\n",
       "  extubation_itemid extubation_ordercategoryname ventilation_duration  \\\n",
       "0            227194        Intubation/Extubation               3931.0   \n",
       "1            227194        Intubation/Extubation               3931.0   \n",
       "2            227194        Intubation/Extubation               3931.0   \n",
       "3            227194        Intubation/Extubation               3931.0   \n",
       "4            227194        Intubation/Extubation               3931.0   \n",
       "\n",
       "   anchor_age  \n",
       "0          73  \n",
       "1          73  \n",
       "2          73  \n",
       "3          73  \n",
       "4          73  \n",
       "\n",
       "[5 rows x 23 columns]"
      ]
     },
     "execution_count": 18,
     "metadata": {},
     "output_type": "execute_result"
    }
   ],
   "source": [
    "merged_data.head()"
   ]
  },
  {
   "cell_type": "markdown",
   "metadata": {},
   "source": [
    "Filter so charttime of palliative care event is before the end of ventilation"
   ]
  },
  {
   "cell_type": "code",
   "execution_count": 19,
   "metadata": {},
   "outputs": [],
   "source": [
    "# Filter the merged data based on the charttime and ventilation_endtime conditions\n",
    "filtered_patients = merged_data[merged_data['charttime'] < merged_data['ventilation_endtime']]\n"
   ]
  },
  {
   "cell_type": "markdown",
   "metadata": {},
   "source": [
    "Remove patients under palliative care"
   ]
  },
  {
   "cell_type": "code",
   "execution_count": 20,
   "metadata": {},
   "outputs": [],
   "source": [
    "# Get the subject_ids to be removed\n",
    "subject_ids_to_remove = filtered_patients['subject_id'].compute().unique()\n",
    "\n",
    "# Remove the patients who meet the criteria from the initial patient data\n",
    "filtered_patient_data = patients_df[~patients_df['subject_id'].isin(subject_ids_to_remove)]\n"
   ]
  },
  {
   "cell_type": "code",
   "execution_count": 21,
   "metadata": {},
   "outputs": [],
   "source": [
    "# Save the filtered patient data to a parquet file\n",
    "filtered_patient_data.to_parquet('filtered_patients.parquet', index=False)\n"
   ]
  },
  {
   "cell_type": "markdown",
   "metadata": {},
   "source": [
    "Now we can carry out simple analysis on the filtered patient data to see how many patients have been removed"
   ]
  },
  {
   "cell_type": "code",
   "execution_count": 22,
   "metadata": {},
   "outputs": [
    {
     "name": "stdout",
     "output_type": "stream",
     "text": [
      "<class 'pandas.core.frame.DataFrame'>\n",
      "RangeIndex: 6048 entries, 0 to 6047\n",
      "Data columns (total 13 columns):\n",
      " #   Column                         Non-Null Count  Dtype         \n",
      "---  ------                         --------------  -----         \n",
      " 0   subject_id                     6048 non-null   int64         \n",
      " 1   hadm_id                        6048 non-null   int64         \n",
      " 2   stay_id                        6048 non-null   int64         \n",
      " 3   ventilation_starttime          6048 non-null   datetime64[ns]\n",
      " 4   ventilation_endtime            6048 non-null   datetime64[ns]\n",
      " 5   ventilation_itemid             6048 non-null   int64         \n",
      " 6   ventilation_ordercategoryname  6048 non-null   object        \n",
      " 7   extubation_starttime           6048 non-null   datetime64[ns]\n",
      " 8   extubation_endtime             6048 non-null   datetime64[ns]\n",
      " 9   extubation_itemid              6048 non-null   int64         \n",
      " 10  extubation_ordercategoryname   6048 non-null   object        \n",
      " 11  ventilation_duration           6048 non-null   float64       \n",
      " 12  anchor_age                     6048 non-null   int64         \n",
      "dtypes: datetime64[ns](4), float64(1), int64(6), object(2)\n",
      "memory usage: 614.4+ KB\n"
     ]
    }
   ],
   "source": [
    "# Load filtered patient data\n",
    "filtered_patient_data_df = pd.read_parquet('filtered_patients.parquet')\n",
    "\n",
    "filtered_patient_data_df.info()"
   ]
  },
  {
   "cell_type": "code",
   "execution_count": 24,
   "metadata": {},
   "outputs": [
    {
     "name": "stdout",
     "output_type": "stream",
     "text": [
      "Number of patients under palliative care removed: 63\n"
     ]
    }
   ],
   "source": [
    "# Calculate the number of patients who were removed\n",
    "num_removed_patients = len(subject_ids_to_remove)\n",
    "print(f'Number of patients under palliative care removed: {num_removed_patients}')"
   ]
  }
 ],
 "metadata": {
  "kernelspec": {
   "display_name": "Python 3",
   "language": "python",
   "name": "python3"
  },
  "language_info": {
   "codemirror_mode": {
    "name": "ipython",
    "version": 3
   },
   "file_extension": ".py",
   "mimetype": "text/x-python",
   "name": "python",
   "nbconvert_exporter": "python",
   "pygments_lexer": "ipython3",
   "version": "3.9.6"
  }
 },
 "nbformat": 4,
 "nbformat_minor": 2
}
